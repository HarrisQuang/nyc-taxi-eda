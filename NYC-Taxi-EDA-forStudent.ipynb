{
 "cells": [
  {
   "cell_type": "markdown",
   "metadata": {},
   "source": [
    "<h1 align=center><font size = 5> New York Taxi Analysis</font></h1>"
   ]
  },
  {
   "cell_type": "markdown",
   "metadata": {},
   "source": [
    "## 1. Introduction\n",
    "\n",
    "A taxi company tackle a problem is how to assign the cabs to passengers efficiently. One of main issue is determining the duration of the current trip so it can predict when the cab will be free for the next trip. You are challenged to build a model that predicts the total ride duration of taxi trips in New York City. Your primary dataset is one released by the NYC Taxi and Limousine Commission. To build the best model, you would do analysis to find the best features that have relative with trip duration of taxi. In this project, you will practice data analysis and data visualization skill using Python such as: describe the data, handle missing value, data cleansing, feature engineer, feature selection to get insights about the data and determine how different variables are dependent on the target variable **Trip Duration**.\n",
    "\n",
    "## 2. Data description\n",
    "\n",
    "\n",
    "### File descriptions\n",
    "train.csv - contains 1458644 trip records\n",
    "\n",
    "weather_data_nyc.csv - the weather information in each day of trip\n",
    "\n",
    "fastest_routes_train_part_1.csv\n",
    "\n",
    "fastest_routes_train_part_2.csv\n",
    "\n",
    "\n",
    "### Data fields\n",
    "#### train.csv:\n",
    "- id - a unique identifier for each trip\n",
    "- vendor_id - a code indicating the provider associated with the trip record\n",
    "- pickup_datetime - date and time when the meter was engaged\n",
    "- dropoff_datetime - date and time when the meter was disengaged\n",
    "- passenger_count - the number of passengers in the vehicle (driver entered value)\n",
    "- pickup_longitude - the longitude where the meter was engaged\n",
    "- pickup_latitude - the latitude where the meter was engaged\n",
    "- dropoff_longitude - the longitude where the meter was disengaged\n",
    "- dropoff_latitude - the latitude where the meter was disengaged\n",
    "- store_and_fwd_flag - This flag indicates whether the trip record was held in vehicle memory before sending to the vendor - because the vehicle did not have a connection to the server - Y=store and forward; N=not a store and forward trip\n",
    "\n",
    "- trip_duration - duration of the trip in seconds. Our target feature in the training data is measured in seconds\n",
    "\n",
    "#### weather_nyc.csv\n",
    "\n",
    "Weather data collected from the National Weather Service. It contains the first six months of 2016, for a weather station in central park. It contains for each day the minimum temperature, maximum temperature, average temperature, precipitation, new snow fall, and current snow depth. The temperature is measured in Fahrenheit and the depth is measured in inches. T means that there is a trace of precipitation.\n",
    "\n",
    "- date : date of collecting data\n",
    "- maximum temperature\n",
    "- minimum temperature\n",
    "- average temperature\n",
    "- precipitation\n",
    "- snow fall\n",
    "- snow depth\n",
    "\n",
    "#### fastest routes\n",
    "\n",
    "This is suggested information about the fastest route from starting street to ending street for a trip that will help you estimate the duration.\n",
    "\n",
    "- id - a unique identifier for each trip\n",
    "- starting_street - a street when start the trip\n",
    "- end_street - a street at end of the trip\n",
    "- total_distance\n",
    "- total_travel_time\n",
    "- number_of_steps\n",
    "- street_for_each_step\n",
    "- distance_per_step\n",
    "- travel_time_per_step\n",
    "- step_maneuvers\n",
    "- step_direction\n",
    "- step_location_list\n",
    "\n"
   ]
  },
  {
   "cell_type": "markdown",
   "metadata": {},
   "source": [
    "<h1 align=center><font size = 5>Project Requirements</font></h1>\n",
    "\n",
    "Complete following tasks in this projects:\n",
    "\n"
   ]
  },
  {
   "cell_type": "markdown",
   "metadata": {},
   "source": [
    "### Import Python Package"
   ]
  },
  {
   "cell_type": "code",
   "execution_count": 1,
   "metadata": {},
   "outputs": [],
   "source": [
    "import pandas as pd"
   ]
  },
  {
   "cell_type": "markdown",
   "metadata": {},
   "source": [
    "### <span style=\"color:blue\">1.Load data</span>\n",
    "- Load trip data that describes above using DataFrame in Pandas"
   ]
  },
  {
   "cell_type": "code",
   "execution_count": 2,
   "metadata": {},
   "outputs": [],
   "source": [
    "#write your code here\n",
    "df_trip = pd.read_csv('data/trip.csv')\n",
    "df_weather = pd.read_csv('data/weather_data_nyc.csv')\n",
    "df_1 = pd.read_csv('data/fastest_routes_train_part_1.csv', index_col=None)\n",
    "df_2 = pd.read_csv('data/fastest_routes_train_part_2.csv', index_col=None)\n",
    "df_final_routes = pd.concat([df_1, df_2])\n",
    "df_final_routes.to_csv('data/final_routes.csv')"
   ]
  },
  {
   "cell_type": "markdown",
   "metadata": {},
   "source": [
    "### <span style=\"color:blue\">2.Reformat data type</span>\n",
    "- Some datatime fields have wrong data types, write your code to change to correct format."
   ]
  },
  {
   "cell_type": "code",
   "execution_count": 4,
   "metadata": {},
   "outputs": [
    {
     "data": {
      "text/plain": "id                     object\nvendor_id               int64\npickup_datetime        object\ndropoff_datetime       object\npassenger_count         int64\npickup_longitude      float64\npickup_latitude       float64\ndropoff_longitude     float64\ndropoff_latitude      float64\nstore_and_fwd_flag     object\ntrip_duration           int64\ndtype: object"
     },
     "execution_count": 4,
     "metadata": {},
     "output_type": "execute_result"
    }
   ],
   "source": [
    "#write your code here\n",
    "df_trip.dtypes\n"
   ]
  },
  {
   "cell_type": "markdown",
   "metadata": {},
   "source": [
    "### <span style=\"color:blue\">3.Descriptive Statistics </span>\n",
    "- Using Descriptive Statistics to find some insights in 3 tables. Write your finding in the report"
   ]
  },
  {
   "cell_type": "code",
   "execution_count": 4,
   "metadata": {},
   "outputs": [],
   "source": [
    "#write your code here"
   ]
  },
  {
   "cell_type": "markdown",
   "metadata": {},
   "source": [
    "#### 3.1. Univariate Analysis\n",
    "- Univariate analysis is the simplest form of analyzing data. “Uni” means “one”, so in other words your data has only one variable. It doesn’t deal with causes or relationships (unlike regression) and it’s major purpose is to describe; it takes data, summarizes that data and finds patterns in the data. \n",
    "- Your objective is finding features that correlate with trip duration and using these to predict duration of taxi trip. In first step, you must get more understand about each column (feature) in train.csv that will help you find best features.\n",
    "\n"
   ]
  },
  {
   "cell_type": "markdown",
   "metadata": {},
   "source": [
    "##### 3.1.1. Distribution of trip duration\n",
    "- Visualize the distribution of trip duration. It is better if you transform duration time to log10\n",
    "- Write your findings"
   ]
  },
  {
   "cell_type": "code",
   "execution_count": 5,
   "metadata": {},
   "outputs": [],
   "source": [
    "#write your code here"
   ]
  },
  {
   "cell_type": "markdown",
   "metadata": {},
   "source": [
    "##### 3.1.2. Pickup latitude and Pickup longitude\n",
    "- Use data visualization and write your findings "
   ]
  },
  {
   "cell_type": "code",
   "execution_count": 6,
   "metadata": {},
   "outputs": [],
   "source": [
    "#write your code here"
   ]
  },
  {
   "cell_type": "markdown",
   "metadata": {},
   "source": [
    "##### 3.1.3. Dropoff latitude and Dripoff longitude\n",
    "- Use data visualization and write your findings "
   ]
  },
  {
   "cell_type": "code",
   "execution_count": 7,
   "metadata": {},
   "outputs": [],
   "source": [
    "#write your code here"
   ]
  },
  {
   "cell_type": "markdown",
   "metadata": {},
   "source": [
    "##### 3.1.4. Pickup datatime and Dropoff datetime\n",
    "-  its better to visualize the trips by hour, day, week, month..."
   ]
  },
  {
   "cell_type": "code",
   "execution_count": 8,
   "metadata": {},
   "outputs": [],
   "source": [
    "#write your code here"
   ]
  },
  {
   "cell_type": "markdown",
   "metadata": {},
   "source": [
    "##### 3.1.5. Vendor \n",
    "- use data visualization and write your findings "
   ]
  },
  {
   "cell_type": "code",
   "execution_count": 9,
   "metadata": {},
   "outputs": [],
   "source": [
    "#write your code here"
   ]
  },
  {
   "cell_type": "markdown",
   "metadata": {},
   "source": [
    "##### 3.1.6 Passenger_count"
   ]
  },
  {
   "cell_type": "code",
   "execution_count": 10,
   "metadata": {},
   "outputs": [],
   "source": [
    "#write your code here"
   ]
  },
  {
   "cell_type": "markdown",
   "metadata": {},
   "source": [
    "##### 3.1.7 Add more analysis"
   ]
  },
  {
   "cell_type": "code",
   "execution_count": 11,
   "metadata": {},
   "outputs": [],
   "source": [
    "#write your code here"
   ]
  },
  {
   "cell_type": "markdown",
   "metadata": {},
   "source": [
    "#### 3.2. Bivariate Analysis and Multivariate Analysis\n",
    "- Bivariate analysis is the simultaneous analysis of two variables (attributes). It explores the concept of relationship between two variables, whether there exists an association and the strength of this association, or whether there are differences between two variables and the significance of these differences.\n",
    "<br><br/>\n",
    "- Multivariate Data Analysis is a statistical technique used to analyze data that originates from more than one variable.\n",
    "<br><br/>\n",
    "- Now look at the relationship between each of the variables with the target variable **trip_duration**. We’ll start with a few very simple questions."
   ]
  },
  {
   "cell_type": "markdown",
   "metadata": {},
   "source": [
    "##### 3.2.1 How pickup location, drop-off location, the direct distance of pickup location and drop-off location impact on trip duration?"
   ]
  },
  {
   "cell_type": "code",
   "execution_count": 12,
   "metadata": {},
   "outputs": [],
   "source": [
    "#find your answer here"
   ]
  },
  {
   "cell_type": "markdown",
   "metadata": {},
   "source": [
    "##### 3.2.2 How pickup datetime affects to trip duration? Do quieter days and hours lead to faster trips?"
   ]
  },
  {
   "cell_type": "code",
   "execution_count": 13,
   "metadata": {},
   "outputs": [],
   "source": [
    "#find your answer here"
   ]
  },
  {
   "cell_type": "markdown",
   "metadata": {},
   "source": [
    "##### 3.2.3\tHow different numbers of passengers and the different vendors are correlated with the duration of the trip?"
   ]
  },
  {
   "cell_type": "code",
   "execution_count": 14,
   "metadata": {},
   "outputs": [],
   "source": [
    "#find your answer here"
   ]
  },
  {
   "cell_type": "markdown",
   "metadata": {},
   "source": [
    "##### 3.2.4 Add more your questions:"
   ]
  },
  {
   "cell_type": "code",
   "execution_count": null,
   "metadata": {},
   "outputs": [],
   "source": []
  },
  {
   "cell_type": "markdown",
   "metadata": {},
   "source": [
    "#### 3.3 More Analysis with External data\n",
    "- We have two other tables: weather and faster routes. Use your analysis to find more features that are correlated with trip duration."
   ]
  },
  {
   "cell_type": "markdown",
   "metadata": {},
   "source": [
    "##### 3.3.1 How weather affect to total time of a trip? How does snow or rain impact on trip duration?"
   ]
  },
  {
   "cell_type": "code",
   "execution_count": 15,
   "metadata": {},
   "outputs": [],
   "source": [
    "#find your answer here"
   ]
  },
  {
   "cell_type": "markdown",
   "metadata": {},
   "source": [
    "- Another external data set is fastest route of each trip that includes the pickup/dropoff streets and total distance/duration between these two points together with a sequence of travels steps such as turns or entering a highway. \n",
    "- This is suggested information about the fastest route from starting street to ending street for a trip that will help you estimate the duration.\n",
    "\n",
    "##### 3.3.2 How is number of left turns, right turns, turns effect to trip duration? "
   ]
  },
  {
   "cell_type": "code",
   "execution_count": 16,
   "metadata": {},
   "outputs": [],
   "source": [
    "#find your answer here"
   ]
  },
  {
   "cell_type": "markdown",
   "metadata": {},
   "source": [
    "### <span style=\"color:blue\">4.Feature Selection </span>\n",
    "\n",
    "- Feature Selection is the process where you automatically or manually select those features which contribute most to your prediction variable or output in which you are interested in\n",
    "<br><br/>\n",
    "- Read here\n",
    "https://www.kaggle.com/sz8416/6-ways-for-feature-selection\n",
    "<br><br/>\n",
    "- After engineering new features and before starting the modelling, we will visualize the relations between our parameters using a correlation matrix. For this, we need to change all the input features into a numerical format. The visualisation uses the heatmap plot from seaborn package"
   ]
  },
  {
   "cell_type": "markdown",
   "metadata": {},
   "source": [
    "#### 4.1 Correlation\n",
    "- Read more about feature selection with correlation: https://towardsdatascience.com/feature-selection-correlation-and-p-value-da8921bfb3cf"
   ]
  },
  {
   "cell_type": "code",
   "execution_count": 17,
   "metadata": {},
   "outputs": [],
   "source": [
    "#write your code here"
   ]
  },
  {
   "cell_type": "markdown",
   "metadata": {},
   "source": [
    "#### 4.2 Using feature importance\n",
    "\n",
    "- Install lightgbm package \n",
    "- Use lightgbm for feature selection\n"
   ]
  },
  {
   "cell_type": "code",
   "execution_count": 18,
   "metadata": {},
   "outputs": [],
   "source": [
    "#write your code here"
   ]
  },
  {
   "cell_type": "markdown",
   "metadata": {},
   "source": [
    "### <span style=\"color:blue\">5.Conclusion </span>\n",
    "- Write all features that you select to predict trip duration on the report"
   ]
  }
 ],
 "metadata": {
  "kernelspec": {
   "display_name": "Python 3.7.4 64-bit",
   "language": "python",
   "name": "python37464bit81d1471b51814134b5a52748669ed28c"
  },
  "language_info": {
   "codemirror_mode": {
    "name": "ipython",
    "version": 3
   },
   "file_extension": ".py",
   "mimetype": "text/x-python",
   "name": "python",
   "nbconvert_exporter": "python",
   "pygments_lexer": "ipython3",
   "version": "3.7.4-final"
  }
 },
 "nbformat": 4,
 "nbformat_minor": 2
}